{
 "cells": [
  {
   "cell_type": "markdown",
   "metadata": {},
   "source": [
    "# Uma breve história da Cloud Computing - https://imasters.com.br/cloud/uma-breve-historia-da-cloud-computing\n",
    "\n",
    "\n",
    "A produção de aplicativos deu um salto com Cloud Computing. Desenvolvedores encontram na Nuvem ferramentas que precisam para criar soluções inovadoras com mais velocidade e redução de custos. As plataformas no modelo de serviço são grandes aliadas das startups do setor para acelerar negócios e atender a forte demanda gerada pelas tecnologias emergentes.\n",
    "\n",
    "Atualmente os desenvolvedores podem encurtar o caminho na hora de criar, testar e distribuir aplicativos criativos e com qualidade, principalmente para smartphones. Esses empresários conseguem contratar rapidamente IaaS (infraestrutura como serviço), SaaS (software como serviço), PaaS (Plataforma como serviço), segurança e outras tecnologias avançadas.\n",
    "\n",
    "Como a Cloud Computing está no centro dos negócios dos desenvolvedores, aproveitamos este artigo para contar como esse serviço surgiu, quem é o pai dessa ideia e avanços até os dias atuais.\n",
    "\n",
    "\n",
    "\n",
    "# Quem criou Cloud Computing?\n",
    "A Cloud Computing é um dos alicerces da construção do mundo conectado, apoiando outras tecnologias como mobilidade, Social Media Big Data e Internet das Coisas.\n",
    "\n",
    "Apesar de ser uma tecnologia nova, o conceito de Cloud Computing é antigo. Os relatos históricos dão conta de que a ideia sobre esse modelo de fornecimento de TI surgiu no início da década de 1960, quando o cientista da computação norte-americano, John McCarthy, inventor do termo “Inteligência Artificial”, defendeu a proposta de “time-sharing” ou computação por tempo compartilhado.\n",
    "\n",
    "McCarthy disse que a computação poderia permitir que um computador fosse utilizado simultaneamente por dois ou mais usuários. Desta forma, as pessoas poderiam realizar tarefas, aproveitando o período de tempo disponível dos recursos. Na visão do cientista, o compartilhamento, além de reduzir gastos, permitiria pagamento somente pelo período utilizado.\n",
    "\n",
    "Esse modelo foi apresentado por McCarthy durante um discurso no Massachusetts Institute of Technology (MIT), nos EUA, em 1961. Ele sugeriu a criação da “Utility Computing” ou computação como serviço de utilidade pública, no mesmo sentido do fornecimento de água, luz ou telefone, que chega às residências ou empresas, sem que as pessoas saibam de onde vem.\n",
    "\n",
    "Em 1962, Joseph Carl Robnett Licklider, do MIT, já falava sobre a criação de uma Rede Intergalática de Computadores. Logo depois, em 1969, Leonard Kleinrock, cientista norte-americano que chefiava o Advanced Research Projects Agency Network (Arpanet), órgão que criou a Internet, endossou o conceito de Utility Computing de McCarthy.\n",
    "\n",
    "\n",
    "# Origem do nome \n",
    "\n",
    "Cloud Computing oferece recursos de TI por meio de computadores e servidores compartilhados e interligados pela Internet. Pelo sistema, é possível armazenar dados e acessá-los de qualquer lugar do mundo, a qualquer hora, sem a necessidade da instalação de programas nas máquinas locais.\n",
    "\n",
    "A origem de seu nome vem dos diagramas das antigas redes de dados ISDN (Services Digital Network, ou rede de serviços digitais) e Frame Relay, projetadas pelas operadoras de telefonia. A interligação entre ambas era mostrada por desenhos de nuvens, para sinalizar algo que estava fora do alcance das empresas. Por isso, nem sempre sabemos em que computadores estão as aplicações em Cloud Computing.\n",
    "\n",
    "As principais vantagens do uso dos serviços de TI em Nuvem são: pagamento apenas pelo que se usa; aumento da capacidade dos serviços de acordo com a necessidade dos negócios; possibilidade de acesso de qualquer lugar e por diversos dispositivos; e redução de custos.\n",
    "\n",
    "# **Tipos de serviços**\n",
    "Muitas siglas permeiam o mundo da Nuvem, e é bom entendermos o significado de cada uma na hora de escolher qual serviço precisamos em nossa estrutura.\n",
    "\n",
    "**SaaS** – Software como Serviço – é quando não é necessário a instalação física de um software na sua máquina para utilizá-lo, podendo o software ser utilizado direto no seu browser, como é o caso de leitores de e-mail.\n",
    "\n",
    "**IaaS** – Infraestrutura como Serviço – era muito comum as empresas, principalmente com o foco totalmente em TI, ter grandes parques de servidores em máquinas físicas em seu escritório. Com a IaaS, grande parte da infraestrutura deixou de ser alocada na empresa e passou a ser consumida como serviço.\n",
    "\n",
    "**PaaS** – Plataforma como Serviço – esse tipo de serviço provém uma plataforma para desenvolvimento, testes, deploy e execução de aplicações. É um serviço onde desde a utilização IDE, até a hospedagem de um sistema é feito via internet.\n",
    "\n",
    "**DRaaS** – Recuperação de Desastres como Serviço – nem sempre mantemos backups de nossos servidores, dados e aplicações. Com esse serviço, os servidores, dados e aplicações são replicados para, em caso de desastres, como falha no sistema de arquivos ou deleção de dados. Assim, ume recuperação rápida é realizada.\n",
    "\n",
    "**CaaS** – Comunicação como Serviço – é quando as soluções de comunicação, tais como VoIP, mensagens e streaming de vídeos são oferecidas como serviço.\n",
    "\n",
    "# Principais ofertas\n",
    "A Computação em Nuvem estreou oferecendo a SaaS, depois acrescentou ao seu portfólio soluções IaaS e PaaS, entregues pela Cloud Privada, Pública e Híbrida.\n",
    "\n",
    "Como a Nuvem tem capacidade infinita de prover serviços, estão surgindo diversas soluções no modelo de serviços como DRaaS (Disaster Recovery as a Service), voltada para segurança da informação; CaaS (Communication as a Service ou Comunicação como Serviço); EaaS (Everything as a Service ou Tudo como Serviço) e DBaas (Data Base as a Service ou Banco de Dados como Serviço); entre outras.\n",
    "\n",
    "Pelo seu potencial de disseminar serviços, a adoção da Cloud Computing cresce a taxas de 20% ao ano, de acordo com consultorias de mercado. É claro, que o modelo ganhou escala com a popularização da banda larga e da mobilidade.\n",
    "\n",
    "Segundo o Gartner, em 2020, não ter Cloud será como não possuir Internet nos dias de hoje, algo que é essencial para sobrevivência em um mercado tão competitivo."
   ]
  }
 ],
 "metadata": {
  "language_info": {
   "name": "python"
  }
 },
 "nbformat": 4,
 "nbformat_minor": 2
}
